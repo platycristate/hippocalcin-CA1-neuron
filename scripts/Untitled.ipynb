{
 "cells": [
  {
   "cell_type": "code",
   "execution_count": 7,
   "id": "offshore-behalf",
   "metadata": {},
   "outputs": [],
   "source": [
    "from neuron import rxd\n",
    "from neuron import h"
   ]
  },
  {
   "cell_type": "code",
   "execution_count": 8,
   "id": "fifteen-commodity",
   "metadata": {},
   "outputs": [],
   "source": [
    "r = rxd.Region(h.allsec())"
   ]
  }
 ],
 "metadata": {
  "kernelspec": {
   "display_name": "Python 3",
   "language": "python",
   "name": "python3"
  },
  "language_info": {
   "codemirror_mode": {
    "name": "ipython",
    "version": 3
   },
   "file_extension": ".py",
   "mimetype": "text/x-python",
   "name": "python",
   "nbconvert_exporter": "python",
   "pygments_lexer": "ipython3",
   "version": "3.8.5"
  }
 },
 "nbformat": 4,
 "nbformat_minor": 5
}
